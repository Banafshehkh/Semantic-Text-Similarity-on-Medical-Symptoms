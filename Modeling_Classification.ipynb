{
  "nbformat": 4,
  "nbformat_minor": 0,
  "metadata": {
    "colab": {
      "provenance": []
    },
    "kernelspec": {
      "name": "python3",
      "display_name": "Python 3"
    },
    "language_info": {
      "name": "python"
    },
    "widgets": {
      "application/vnd.jupyter.widget-state+json": {
        "4d02dac0985d48a281b4eba4819884b7": {
          "model_module": "@jupyter-widgets/controls",
          "model_name": "HBoxModel",
          "model_module_version": "1.5.0",
          "state": {
            "_dom_classes": [],
            "_model_module": "@jupyter-widgets/controls",
            "_model_module_version": "1.5.0",
            "_model_name": "HBoxModel",
            "_view_count": null,
            "_view_module": "@jupyter-widgets/controls",
            "_view_module_version": "1.5.0",
            "_view_name": "HBoxView",
            "box_style": "",
            "children": [
              "IPY_MODEL_e6fd3b7301ce414c94a8402b903caf22",
              "IPY_MODEL_dc8c788a2b6641ac81a505fb5e786ba8",
              "IPY_MODEL_68f1c0b7fd21486cb1015f2c268bbe54"
            ],
            "layout": "IPY_MODEL_32f983fc29db48eda446bf5ea394305a"
          }
        },
        "e6fd3b7301ce414c94a8402b903caf22": {
          "model_module": "@jupyter-widgets/controls",
          "model_name": "HTMLModel",
          "model_module_version": "1.5.0",
          "state": {
            "_dom_classes": [],
            "_model_module": "@jupyter-widgets/controls",
            "_model_module_version": "1.5.0",
            "_model_name": "HTMLModel",
            "_view_count": null,
            "_view_module": "@jupyter-widgets/controls",
            "_view_module_version": "1.5.0",
            "_view_name": "HTMLView",
            "description": "",
            "description_tooltip": null,
            "layout": "IPY_MODEL_a8d9fc5ca7fa421cb603a300aaad0d99",
            "placeholder": "​",
            "style": "IPY_MODEL_ab58d65ad44842dfab62a9b780975577",
            "value": "Downloading (…)ve/main/spiece.model: 100%"
          }
        },
        "dc8c788a2b6641ac81a505fb5e786ba8": {
          "model_module": "@jupyter-widgets/controls",
          "model_name": "FloatProgressModel",
          "model_module_version": "1.5.0",
          "state": {
            "_dom_classes": [],
            "_model_module": "@jupyter-widgets/controls",
            "_model_module_version": "1.5.0",
            "_model_name": "FloatProgressModel",
            "_view_count": null,
            "_view_module": "@jupyter-widgets/controls",
            "_view_module_version": "1.5.0",
            "_view_name": "ProgressView",
            "bar_style": "success",
            "description": "",
            "description_tooltip": null,
            "layout": "IPY_MODEL_7e621863af1148f38410f69280e4f5ba",
            "max": 760289,
            "min": 0,
            "orientation": "horizontal",
            "style": "IPY_MODEL_43fc7cf914544e59bf8b30358f2481cd",
            "value": 760289
          }
        },
        "68f1c0b7fd21486cb1015f2c268bbe54": {
          "model_module": "@jupyter-widgets/controls",
          "model_name": "HTMLModel",
          "model_module_version": "1.5.0",
          "state": {
            "_dom_classes": [],
            "_model_module": "@jupyter-widgets/controls",
            "_model_module_version": "1.5.0",
            "_model_name": "HTMLModel",
            "_view_count": null,
            "_view_module": "@jupyter-widgets/controls",
            "_view_module_version": "1.5.0",
            "_view_name": "HTMLView",
            "description": "",
            "description_tooltip": null,
            "layout": "IPY_MODEL_f4b2fd6af1b64e2596d442feffdde4b4",
            "placeholder": "​",
            "style": "IPY_MODEL_5101a71802f04d1f91a2018d3a81b583",
            "value": " 760k/760k [00:00&lt;00:00, 2.18MB/s]"
          }
        },
        "32f983fc29db48eda446bf5ea394305a": {
          "model_module": "@jupyter-widgets/base",
          "model_name": "LayoutModel",
          "model_module_version": "1.2.0",
          "state": {
            "_model_module": "@jupyter-widgets/base",
            "_model_module_version": "1.2.0",
            "_model_name": "LayoutModel",
            "_view_count": null,
            "_view_module": "@jupyter-widgets/base",
            "_view_module_version": "1.2.0",
            "_view_name": "LayoutView",
            "align_content": null,
            "align_items": null,
            "align_self": null,
            "border": null,
            "bottom": null,
            "display": null,
            "flex": null,
            "flex_flow": null,
            "grid_area": null,
            "grid_auto_columns": null,
            "grid_auto_flow": null,
            "grid_auto_rows": null,
            "grid_column": null,
            "grid_gap": null,
            "grid_row": null,
            "grid_template_areas": null,
            "grid_template_columns": null,
            "grid_template_rows": null,
            "height": null,
            "justify_content": null,
            "justify_items": null,
            "left": null,
            "margin": null,
            "max_height": null,
            "max_width": null,
            "min_height": null,
            "min_width": null,
            "object_fit": null,
            "object_position": null,
            "order": null,
            "overflow": null,
            "overflow_x": null,
            "overflow_y": null,
            "padding": null,
            "right": null,
            "top": null,
            "visibility": null,
            "width": null
          }
        },
        "a8d9fc5ca7fa421cb603a300aaad0d99": {
          "model_module": "@jupyter-widgets/base",
          "model_name": "LayoutModel",
          "model_module_version": "1.2.0",
          "state": {
            "_model_module": "@jupyter-widgets/base",
            "_model_module_version": "1.2.0",
            "_model_name": "LayoutModel",
            "_view_count": null,
            "_view_module": "@jupyter-widgets/base",
            "_view_module_version": "1.2.0",
            "_view_name": "LayoutView",
            "align_content": null,
            "align_items": null,
            "align_self": null,
            "border": null,
            "bottom": null,
            "display": null,
            "flex": null,
            "flex_flow": null,
            "grid_area": null,
            "grid_auto_columns": null,
            "grid_auto_flow": null,
            "grid_auto_rows": null,
            "grid_column": null,
            "grid_gap": null,
            "grid_row": null,
            "grid_template_areas": null,
            "grid_template_columns": null,
            "grid_template_rows": null,
            "height": null,
            "justify_content": null,
            "justify_items": null,
            "left": null,
            "margin": null,
            "max_height": null,
            "max_width": null,
            "min_height": null,
            "min_width": null,
            "object_fit": null,
            "object_position": null,
            "order": null,
            "overflow": null,
            "overflow_x": null,
            "overflow_y": null,
            "padding": null,
            "right": null,
            "top": null,
            "visibility": null,
            "width": null
          }
        },
        "ab58d65ad44842dfab62a9b780975577": {
          "model_module": "@jupyter-widgets/controls",
          "model_name": "DescriptionStyleModel",
          "model_module_version": "1.5.0",
          "state": {
            "_model_module": "@jupyter-widgets/controls",
            "_model_module_version": "1.5.0",
            "_model_name": "DescriptionStyleModel",
            "_view_count": null,
            "_view_module": "@jupyter-widgets/base",
            "_view_module_version": "1.2.0",
            "_view_name": "StyleView",
            "description_width": ""
          }
        },
        "7e621863af1148f38410f69280e4f5ba": {
          "model_module": "@jupyter-widgets/base",
          "model_name": "LayoutModel",
          "model_module_version": "1.2.0",
          "state": {
            "_model_module": "@jupyter-widgets/base",
            "_model_module_version": "1.2.0",
            "_model_name": "LayoutModel",
            "_view_count": null,
            "_view_module": "@jupyter-widgets/base",
            "_view_module_version": "1.2.0",
            "_view_name": "LayoutView",
            "align_content": null,
            "align_items": null,
            "align_self": null,
            "border": null,
            "bottom": null,
            "display": null,
            "flex": null,
            "flex_flow": null,
            "grid_area": null,
            "grid_auto_columns": null,
            "grid_auto_flow": null,
            "grid_auto_rows": null,
            "grid_column": null,
            "grid_gap": null,
            "grid_row": null,
            "grid_template_areas": null,
            "grid_template_columns": null,
            "grid_template_rows": null,
            "height": null,
            "justify_content": null,
            "justify_items": null,
            "left": null,
            "margin": null,
            "max_height": null,
            "max_width": null,
            "min_height": null,
            "min_width": null,
            "object_fit": null,
            "object_position": null,
            "order": null,
            "overflow": null,
            "overflow_x": null,
            "overflow_y": null,
            "padding": null,
            "right": null,
            "top": null,
            "visibility": null,
            "width": null
          }
        },
        "43fc7cf914544e59bf8b30358f2481cd": {
          "model_module": "@jupyter-widgets/controls",
          "model_name": "ProgressStyleModel",
          "model_module_version": "1.5.0",
          "state": {
            "_model_module": "@jupyter-widgets/controls",
            "_model_module_version": "1.5.0",
            "_model_name": "ProgressStyleModel",
            "_view_count": null,
            "_view_module": "@jupyter-widgets/base",
            "_view_module_version": "1.2.0",
            "_view_name": "StyleView",
            "bar_color": null,
            "description_width": ""
          }
        },
        "f4b2fd6af1b64e2596d442feffdde4b4": {
          "model_module": "@jupyter-widgets/base",
          "model_name": "LayoutModel",
          "model_module_version": "1.2.0",
          "state": {
            "_model_module": "@jupyter-widgets/base",
            "_model_module_version": "1.2.0",
            "_model_name": "LayoutModel",
            "_view_count": null,
            "_view_module": "@jupyter-widgets/base",
            "_view_module_version": "1.2.0",
            "_view_name": "LayoutView",
            "align_content": null,
            "align_items": null,
            "align_self": null,
            "border": null,
            "bottom": null,
            "display": null,
            "flex": null,
            "flex_flow": null,
            "grid_area": null,
            "grid_auto_columns": null,
            "grid_auto_flow": null,
            "grid_auto_rows": null,
            "grid_column": null,
            "grid_gap": null,
            "grid_row": null,
            "grid_template_areas": null,
            "grid_template_columns": null,
            "grid_template_rows": null,
            "height": null,
            "justify_content": null,
            "justify_items": null,
            "left": null,
            "margin": null,
            "max_height": null,
            "max_width": null,
            "min_height": null,
            "min_width": null,
            "object_fit": null,
            "object_position": null,
            "order": null,
            "overflow": null,
            "overflow_x": null,
            "overflow_y": null,
            "padding": null,
            "right": null,
            "top": null,
            "visibility": null,
            "width": null
          }
        },
        "5101a71802f04d1f91a2018d3a81b583": {
          "model_module": "@jupyter-widgets/controls",
          "model_name": "DescriptionStyleModel",
          "model_module_version": "1.5.0",
          "state": {
            "_model_module": "@jupyter-widgets/controls",
            "_model_module_version": "1.5.0",
            "_model_name": "DescriptionStyleModel",
            "_view_count": null,
            "_view_module": "@jupyter-widgets/base",
            "_view_module_version": "1.2.0",
            "_view_name": "StyleView",
            "description_width": ""
          }
        }
      }
    }
  },
  "cells": [
    {
      "cell_type": "code",
      "execution_count": null,
      "metadata": {
        "id": "dYWtqXPiWVcf"
      },
      "outputs": [],
      "source": [
        "# Author: Banafsheh Khazali\n",
        "# Date: March 13, 2023"
      ]
    },
    {
      "cell_type": "markdown",
      "source": [
        "This Assignment will evaluate your skills in topic modeling and classification. Include in your\n",
        "submission the code used to generate answers as a Jupyter Notebook or Python program file\n",
        "as well as any files generated. Make sure it is clear what code answers each question.\n",
        "This Assignment is meant to be completed individually. You may discuss the questions at a high\n",
        "level with other students but the final work submitted must be your own. Please reference any\n",
        "external resources you use to complete this Assignment using ACM referencing format."
      ],
      "metadata": {
        "id": "YcTCYh3pWakj"
      }
    },
    {
      "cell_type": "markdown",
      "source": [
        "# **Exercise 1**"
      ],
      "metadata": {
        "id": "66EuOxPlWqH9"
      }
    },
    {
      "cell_type": "markdown",
      "source": [
        "##**A**"
      ],
      "metadata": {
        "id": "xqtpH_68W0vy"
      }
    },
    {
      "cell_type": "markdown",
      "source": [
        "*"
      ],
      "metadata": {
        "id": "BKKfo_yZwf8M"
      }
    },
    {
      "cell_type": "markdown",
      "source": [
        "Use the 20 Newsgroup dataset (from sklearn.datasets import fetch_20newsgroups) and the\n",
        "LDA (Latent Dirichlet Allocation) topic modeling algorithm to identify the most common\n",
        "topics in the dataset. Explain any preprocessing steps applied (and why)"
      ],
      "metadata": {
        "id": "SSSWBPRfW78s"
      }
    },
    {
      "cell_type": "markdown",
      "source": [
        "Preprocessing Steps:\n",
        "\n",
        "Remove stop words:  I  use NLTK library's built-in stop words list to remove them.\n",
        "\n",
        "Remove words with fewer than 3 characters: Words with fewer than 3 characters are usually not very informative, so I remove them.\n",
        "\n",
        "Lemmatization: I use the NLTK library's WordNetLemmatizer for this purpose."
      ],
      "metadata": {
        "id": "peVq0QTMdBLA"
      }
    },
    {
      "cell_type": "code",
      "source": [
        "\n",
        "import nltk\n",
        "nltk.download('wordnet')\n",
        "nltk.download('stopwords')\n",
        "nltk.download('omw-1.4')\n",
        "\n",
        "import numpy as np\n",
        "import pandas as pd\n",
        "import seaborn as sns\n",
        "import matplotlib.pyplot as plt\n",
        "%matplotlib inline\n",
        "\n",
        "from sklearn.datasets import fetch_20newsgroups\n",
        "from sklearn.feature_extraction.text import CountVectorizer\n",
        "from sklearn.decomposition import LatentDirichletAllocation\n",
        "\n",
        "\n",
        "from nltk.corpus import stopwords\n",
        "from nltk.stem import WordNetLemmatizer\n",
        "import string\n",
        "\n",
        "# Load the 20 newsgroups dataset\n",
        "newsgroups = fetch_20newsgroups(subset='all', remove=('headers', 'footers', 'quotes'))\n",
        "\n",
        "# Define the preprocessing steps\n",
        "stop_words = set(stopwords.words('english'))\n",
        "lemmatizer = WordNetLemmatizer()\n",
        "\n",
        "def preprocess_text(text):\n",
        "    # Remove punctuation\n",
        "    text = text.translate(str.maketrans('', '', string.punctuation))\n",
        "    \n",
        "    # Convert to lowercase\n",
        "    text = text.lower()\n",
        "    \n",
        "    # Remove stop words and words with fewer than 3 characters\n",
        "    words = text.split()\n",
        "    words = [word for word in words if word not in stop_words and len(word) > 2]\n",
        "    \n",
        "    # Lemmatize words\n",
        "    words = [lemmatizer.lemmatize(word) for word in words]\n",
        "    \n",
        "    # Combine the words back into a string\n",
        "    text = ' '.join(words)\n",
        "    \n",
        "    return text\n",
        "\n",
        "# Preprocess the text data\n",
        "preprocessed_data = [preprocess_text(text) for text in newsgroups.data]\n",
        "\n",
        "# Create a document-term matrix using the CountVectorizer\n",
        "vectorizer = CountVectorizer(max_features=1000, max_df=0.5, min_df=2)\n",
        "dtm = vectorizer.fit_transform(preprocessed_data)\n",
        "\n",
        "# Train the LDA model\n",
        "lda_model = LatentDirichletAllocation(n_components=10, random_state=42)\n",
        "lda_model.fit(dtm)\n",
        "\n",
        "print(lda_model)\n",
        "# Print the top 10 words for each topic\n",
        "for idx, topic in enumerate(lda_model.components_):\n",
        "    print(\"Topic #%d:\" % idx)\n",
        "    print(\" \".join([vectorizer.get_feature_names_out()[i] for i in topic.argsort()[:-10 - 1:-1]]))\n",
        "    print()\n"
      ],
      "metadata": {
        "colab": {
          "base_uri": "https://localhost:8080/",
          "height": 0
        },
        "id": "fEznxTcInRgk",
        "outputId": "b018c85a-9634-4e95-c06e-9afb6a2906e0"
      },
      "execution_count": 5,
      "outputs": [
        {
          "output_type": "stream",
          "name": "stderr",
          "text": [
            "[nltk_data] Downloading package wordnet to /root/nltk_data...\n",
            "[nltk_data]   Package wordnet is already up-to-date!\n",
            "[nltk_data] Downloading package stopwords to /root/nltk_data...\n",
            "[nltk_data]   Package stopwords is already up-to-date!\n",
            "[nltk_data] Downloading package omw-1.4 to /root/nltk_data...\n",
            "[nltk_data]   Package omw-1.4 is already up-to-date!\n"
          ]
        },
        {
          "output_type": "stream",
          "name": "stdout",
          "text": [
            "LatentDirichletAllocation(random_state=42)\n",
            "Topic #0:\n",
            "dont would one people think know get like time thing\n",
            "\n",
            "Topic #1:\n",
            "file window program use image system version software get problem\n",
            "\n",
            "Topic #2:\n",
            "key chip government use system encryption phone would law clipper\n",
            "\n",
            "Topic #3:\n",
            "game year team player play last one first would time\n",
            "\n",
            "Topic #4:\n",
            "university 1993 information research may study year new also state\n",
            "\n",
            "Topic #5:\n",
            "thanks please anyone know email would book price one like\n",
            "\n",
            "Topic #6:\n",
            "god one would people say christian jesus believe think word\n",
            "\n",
            "Topic #7:\n",
            "drive space system would one power problem disk use speed\n",
            "\n",
            "Topic #8:\n",
            "maxaxaxaxaxaxaxaxaxaxaxaxaxaxax list mail address internet email send posting car anonymous\n",
            "\n",
            "Topic #9:\n",
            "armenian people israel state jew war government muslim right one\n",
            "\n"
          ]
        }
      ]
    },
    {
      "cell_type": "markdown",
      "source": [
        "The reason that I used preprocessing is that we are using the 20 Newsgroup dataset, which consists of emails from 20 different newsgroups or discussion forums. Each email is a text document that may contain noise, irrelevant words, and stop words that do not add any meaning to the document. "
      ],
      "metadata": {
        "id": "yOryXEoNtvoY"
      }
    },
    {
      "cell_type": "markdown",
      "source": [
        "## **B**"
      ],
      "metadata": {
        "id": "qjeqBUBgXAiK"
      }
    },
    {
      "cell_type": "markdown",
      "source": [
        "*"
      ],
      "metadata": {
        "id": "Fpkc7dZcwbKT"
      }
    },
    {
      "cell_type": "markdown",
      "source": [
        " Coherence scores are one way to decide on the number of topics to consider from your\n",
        "topic model. Use CoherenceModel and get_coherence() to obtain coherence values from LDA.\n",
        "Plot the number of topics vs coherence scores using matplotlib. Did LDA perform well in\n",
        "identifying topics? From coherence, how many relevant topics are there in the dataset?"
      ],
      "metadata": {
        "id": "qiPik-wHXDuw"
      }
    },
    {
      "cell_type": "code",
      "source": [
        "import nltk\n",
        "from gensim.models.ldamodel import LdaModel\n",
        "from gensim.models.coherencemodel import CoherenceModel\n",
        "from gensim.corpora import Dictionary\n",
        "from sklearn.datasets import fetch_20newsgroups\n",
        "\n",
        "nltk.download('punkt')\n",
        "\n",
        "# load 20 newsgroups dataset\n",
        "newsgroups_train = fetch_20newsgroups(subset='train', shuffle=True)\n",
        "\n",
        "# tokenize documents\n",
        "data_samples = []\n",
        "for doc in newsgroups_train.data:\n",
        "    tokens = nltk.word_tokenize(doc)\n",
        "    data_samples.append(tokens)\n",
        "\n",
        "# create dictionary and document-term matrix\n",
        "dictionary = Dictionary.from_documents(data_samples)\n",
        "tf = [dictionary.doc2bow(text) for text in data_samples]\n",
        "\n",
        "# define range of number of topics to consider\n",
        "topic_range = range(2, 21)\n",
        "\n",
        "# calculate coherence scores for different number of topics\n",
        "coherence_scores = []\n",
        "for num_topics in topic_range:\n",
        "    lda_model = LdaModel(corpus=tf, num_topics=num_topics, id2word=dictionary)\n",
        "    coherence_model_lda = CoherenceModel(model=lda_model, texts=data_samples, dictionary=dictionary, coherence='c_v')\n",
        "    coherence_score = coherence_model_lda.get_coherence()\n",
        "    coherence_scores.append(coherence_score)\n",
        "\n",
        "# plot coherence scores vs number of topics\n",
        "import matplotlib.pyplot as plt\n",
        "plt.plot(topic_range, coherence_scores)\n",
        "plt.xlabel('Number of Topics')\n",
        "plt.ylabel('Coherence Score')\n",
        "plt.show()\n"
      ],
      "metadata": {
        "colab": {
          "base_uri": "https://localhost:8080/",
          "height": 664
        },
        "id": "xH9KaBJ4xmcE",
        "outputId": "1bdb2321-1e5f-4830-c0e5-dd392367d4b4"
      },
      "execution_count": 40,
      "outputs": [
        {
          "output_type": "stream",
          "name": "stderr",
          "text": [
            "[nltk_data] Downloading package punkt to /root/nltk_data...\n",
            "[nltk_data]   Unzipping tokenizers/punkt.zip.\n",
            "WARNING:gensim.models.ldamodel:too few updates, training might not converge; consider increasing the number of passes or iterations to improve accuracy\n",
            "WARNING:gensim.models.ldamodel:too few updates, training might not converge; consider increasing the number of passes or iterations to improve accuracy\n",
            "WARNING:gensim.models.ldamodel:too few updates, training might not converge; consider increasing the number of passes or iterations to improve accuracy\n",
            "WARNING:gensim.models.ldamodel:too few updates, training might not converge; consider increasing the number of passes or iterations to improve accuracy\n",
            "WARNING:gensim.models.ldamodel:too few updates, training might not converge; consider increasing the number of passes or iterations to improve accuracy\n",
            "WARNING:gensim.models.ldamodel:too few updates, training might not converge; consider increasing the number of passes or iterations to improve accuracy\n",
            "WARNING:gensim.models.ldamodel:too few updates, training might not converge; consider increasing the number of passes or iterations to improve accuracy\n",
            "WARNING:gensim.models.ldamodel:too few updates, training might not converge; consider increasing the number of passes or iterations to improve accuracy\n",
            "WARNING:gensim.models.ldamodel:too few updates, training might not converge; consider increasing the number of passes or iterations to improve accuracy\n",
            "WARNING:gensim.models.ldamodel:too few updates, training might not converge; consider increasing the number of passes or iterations to improve accuracy\n",
            "WARNING:gensim.models.ldamodel:too few updates, training might not converge; consider increasing the number of passes or iterations to improve accuracy\n",
            "WARNING:gensim.models.ldamodel:too few updates, training might not converge; consider increasing the number of passes or iterations to improve accuracy\n",
            "WARNING:gensim.models.ldamodel:too few updates, training might not converge; consider increasing the number of passes or iterations to improve accuracy\n",
            "WARNING:gensim.models.ldamodel:too few updates, training might not converge; consider increasing the number of passes or iterations to improve accuracy\n",
            "WARNING:gensim.models.ldamodel:too few updates, training might not converge; consider increasing the number of passes or iterations to improve accuracy\n",
            "WARNING:gensim.models.ldamodel:too few updates, training might not converge; consider increasing the number of passes or iterations to improve accuracy\n",
            "WARNING:gensim.models.ldamodel:too few updates, training might not converge; consider increasing the number of passes or iterations to improve accuracy\n",
            "WARNING:gensim.models.ldamodel:too few updates, training might not converge; consider increasing the number of passes or iterations to improve accuracy\n",
            "WARNING:gensim.models.ldamodel:too few updates, training might not converge; consider increasing the number of passes or iterations to improve accuracy\n"
          ]
        },
        {
          "output_type": "display_data",
          "data": {
            "text/plain": [
              "<Figure size 432x288 with 1 Axes>"
            ],
            "image/png": "[encoded data removed]"
          },
          "metadata": {
            "needs_background": "light"
          }
        }
      ]
    },
    {
      "cell_type": "markdown",
      "source": [
        "The coherence scores measure how well the topics are separated and how semantically interpretable they are. Generally, higher coherence scores indicate better topic models.\n",
        "\n",
        "From the plot, we can see that the coherence score increases as the number of topics increases up to a point, after which it starts to plateau or even decrease slightly. The optimal number of topics seems to be around 10, as that is where the coherence score is highest.\n",
        "\n",
        "Based on this coherence analysis, it appears that LDA performed well in identifying relevant topics in the dataset. There seem to be around 10 relevant topics in the dataset."
      ],
      "metadata": {
        "id": "C5ZcQ8DrpiQ8"
      }
    },
    {
      "cell_type": "markdown",
      "source": [
        "## **C**"
      ],
      "metadata": {
        "id": "Cs3sPSmlXHw5"
      }
    },
    {
      "cell_type": "markdown",
      "source": [
        "How are the documents distributed among the topics you selected as relevant based on\n",
        "coherence?"
      ],
      "metadata": {
        "id": "lAZ2isTtXLst"
      }
    },
    {
      "cell_type": "markdown",
      "source": [
        "# **Exercise 2**\n"
      ],
      "metadata": {
        "id": "S_2ApP0fXPLF"
      }
    },
    {
      "cell_type": "markdown",
      "source": [
        "Assume you have been given a dataset of 1000 observations, with 80% of the data labeled as\n",
        "\"positive\" and the remaining 20% labeled as \"negative\". Below is example code that can be used\n",
        "to generate a dataset for testing purposes."
      ],
      "metadata": {
        "id": "PimnJIZdXl98"
      }
    },
    {
      "cell_type": "markdown",
      "source": [
        "##**1** "
      ],
      "metadata": {
        "id": "cx_beaGWXuep"
      }
    },
    {
      "cell_type": "markdown",
      "source": [
        "Explain why stratified data splitting is important in this scenario and how one way it\n",
        "can be implemented in Python with the generated dataset."
      ],
      "metadata": {
        "id": "GJVHrDy4X7t5"
      }
    },
    {
      "cell_type": "markdown",
      "source": [
        "In this scenario, we have an imbalanced dataset, where 80% of the observations belong to one class and only 20% belong to the other. If we randomly split the dataset into training and testing sets, there is a high probability that the testing set may not have enough samples of the minority class, which could lead to a biased evaluation of the model's performance. This could result in the model performing well on the majority class but not on the minority class, which is of particular interest to us.\n",
        "\n",
        "Stratified data splitting is a technique that ensures the training and testing sets have the same class distribution as the original dataset. In other words, we want to ensure that both the majority and minority classes are represented in both the training and testing sets. This can be achieved by using the train_test_split() function from the sklearn library with the stratify parameter set to the target variable y."
      ],
      "metadata": {
        "id": "Pb5L0RGUAku4"
      }
    },
    {
      "cell_type": "code",
      "source": [
        "from sklearn.datasets import make_classification\n",
        "from sklearn.model_selection import train_test_split\n",
        "\n",
        "# Generate synthetic dataset\n",
        "X, y = make_classification(n_samples=1000, n_features=4, n_informative=4, n_redundant=0,\n",
        "                            n_repeated=0, n_classes=2, class_sep=2, weights=[0.8, 0.2],\n",
        "                            random_state=1)\n",
        "\n",
        "# Split data into training and testing sets while ensuring class balance\n",
        "X_train, X_test, y_train, y_test = train_test_split(X, y, test_size=0.3, stratify=y, random_state=42)\n"
      ],
      "metadata": {
        "id": "KfLmbfVrA2P6"
      },
      "execution_count": null,
      "outputs": []
    },
    {
      "cell_type": "markdown",
      "source": [
        "In the above code, the data is splitted into 70% training and 30% testing sets while ensuring that the class balance is maintained using the stratify parameter set to the target variable y. This ensures that the model is trained on a balanced dataset and tested on a representative sample of the original dataset."
      ],
      "metadata": {
        "id": "uksMEvWRA32s"
      }
    },
    {
      "cell_type": "markdown",
      "source": [
        "## **2**"
      ],
      "metadata": {
        "id": "pdeuTan4X_T0"
      }
    },
    {
      "cell_type": "markdown",
      "source": [
        "Show one way in Python to balance out the dataset using over- or undersampling.\n",
        "Prepare the data for simple hold-out validation."
      ],
      "metadata": {
        "id": "JktQmrvBYF2v"
      }
    },
    {
      "cell_type": "markdown",
      "source": [
        "One way to balance out the dataset is to use undersampling or oversampling techniques. Here is an example of how to undersample the majority class using the RandomUnderSampler from the imbalanced-learn package and prepare the data for simple hold-out validation:"
      ],
      "metadata": {
        "id": "60AH4tWHBEX6"
      }
    },
    {
      "cell_type": "code",
      "source": [
        "from sklearn.model_selection import train_test_split\n",
        "from imblearn.under_sampling import RandomUnderSampler\n",
        "\n",
        "# Undersample the majority class\n",
        "rus = RandomUnderSampler(random_state=42)\n",
        "X_resampled, y_resampled = rus.fit_resample(X, y)\n",
        "\n",
        "# Split the data into train and test sets\n",
        "X_train, X_test, y_train, y_test = train_test_split(X_resampled, y_resampled, test_size=0.2, random_state=42)\n"
      ],
      "metadata": {
        "id": "BBQMER8aBF46"
      },
      "execution_count": null,
      "outputs": []
    },
    {
      "cell_type": "markdown",
      "source": [
        "In this example, we first use RandomUnderSampler to randomly remove observations from the majority class until the dataset is balanced. We then split the balanced dataset into training and testing sets using train_test_split from the sklearn package. This will give us two sets of data, one for training our model and one for evaluating its performance. The random_state argument is set to ensure reproducibility."
      ],
      "metadata": {
        "id": "d6bzARf3BJGL"
      }
    },
    {
      "cell_type": "markdown",
      "source": [
        "## **3**"
      ],
      "metadata": {
        "id": "YoglDPuDYHHR"
      }
    },
    {
      "cell_type": "markdown",
      "source": [
        "Explain the concept of nested cross-validation and how it can be used to optimize\n",
        "hyperparameters in a machine learning model. Explain what the risk of using another\n",
        "cross-validation technique, say k-fold cross-validation when tuning hyperparameters."
      ],
      "metadata": {
        "id": "mKlFWcPYYKi5"
      }
    },
    {
      "cell_type": "markdown",
      "source": [
        "https://scikit-learn.org/stable/auto_examples/model_selection/plot_nested_cross_validation_iris.html#:~:text=Nested%20cross%2Dvalidation%20(CV),its%20(hyper)parameter%20search."
      ],
      "metadata": {
        "id": "glDWItBCymYu"
      }
    },
    {
      "cell_type": "markdown",
      "source": [
        "Nested cross-validation is a technique used to evaluate the performance of a machine learning model and tune its hyperparameters. It is a type of cross-validation where an inner loop is used to tune the model's hyperparameters and an outer loop is used to evaluate the performance of the model on unseen data. The outer loop is often referred to as the outer fold, while the inner loop is called the inner fold.\n",
        "\n",
        "The process of nested cross-validation can be described as follows:\n",
        "\n",
        "1. The dataset is divided into k equally-sized folds.\n",
        "\n",
        "2. For each outer fold, the data is split into two parts: the training set and the validation set.\n",
        "\n",
        "3. For each inner fold, the training set is further divided into k-1 folds for training the model and the remaining fold is used for hyperparameter tuning.\n",
        "\n",
        "4. The model is trained on the training set of the outer fold, with hyperparameters optimized using the inner fold.\n",
        "\n",
        "5. The performance of the model is evaluated on the validation set of the outer fold.\n",
        "\n",
        "6. The process is repeated k times, with each outer fold used as the validation set once.\n",
        "\n",
        "The advantage of nested cross-validation is that it provides a more accurate estimate of the model's performance compared to a simple train-test split or k-fold cross-validation. It also allows for hyperparameter tuning without overfitting to the training set.\n",
        "\n",
        "If k-fold cross-validation is used for hyperparameter tuning instead of nested cross-validation, there is a risk of overfitting to the training set. This is because the same data is used for both hyperparameter tuning and model evaluation. The model may perform well on the validation set, but not on new data, resulting in poor generalization performance. Nested cross-validation addresses this issue by using separate data for hyperparameter tuning and model evaluation."
      ],
      "metadata": {
        "id": "YP6xD9PNCIQf"
      }
    },
    {
      "cell_type": "markdown",
      "source": [
        "#**Exercise 3**"
      ],
      "metadata": {
        "id": "_6h6DWvLYXwQ"
      }
    },
    {
      "cell_type": "markdown",
      "source": [
        "For this exercise, you will use a dataset from the UCI Data Repository [1] with sentences\n",
        "from 3 different companies labelled with positive or negative sentiment. It can be downloaded\n",
        "here."
      ],
      "metadata": {
        "id": "vW5dPOmJYeBQ"
      }
    },
    {
      "cell_type": "markdown",
      "source": [
        "https://archive.ics.uci.edu/ml/datasets/Sentiment+Labelled+Sentences?spm=a2c6h.12873639.0.0.517447a6UVOlJv"
      ],
      "metadata": {
        "id": "O6AEyi59y9nv"
      }
    },
    {
      "cell_type": "code",
      "source": [
        "!mkdir dataset"
      ],
      "metadata": {
        "colab": {
          "base_uri": "https://localhost:8080/",
          "height": 0
        },
        "id": "Am3ba1dAFo6i",
        "outputId": "fa10d830-4004-477c-d5fe-41bda83b45f3"
      },
      "execution_count": 6,
      "outputs": [
        {
          "output_type": "stream",
          "name": "stdout",
          "text": [
            "mkdir: cannot create directory ‘dataset’: File exists\n"
          ]
        }
      ]
    },
    {
      "cell_type": "markdown",
      "source": [
        "## **A**"
      ],
      "metadata": {
        "id": "R5RVSxUTYfp5"
      }
    },
    {
      "cell_type": "markdown",
      "source": [
        "Train a Random Forest model to classify positive and negative sentiment. Report Precision,\n",
        "Recall, and F1 for each category (e.g., Pos and Neg) for your model."
      ],
      "metadata": {
        "id": "wu2d5TJ7Yl2w"
      }
    },
    {
      "cell_type": "code",
      "source": [
        "import pandas as pd\n",
        "from sklearn.model_selection import train_test_split\n",
        "from sklearn.feature_extraction.text import CountVectorizer\n",
        "from sklearn.ensemble import RandomForestClassifier\n",
        "from sklearn.metrics import classification_report\n",
        "from sklearn.feature_extraction.text import TfidfVectorizer\n",
        "from sklearn.metrics import precision_score, recall_score, f1_score\n",
        "\n",
        "# read in data from all files and combine them into a single dataframe\n",
        "data = pd.concat([pd.read_csv('/content/dataset/amazon_cells_labelled.txt', sep='\\t', header=None),\n",
        "                  pd.read_csv('/content/dataset/imdb_labelled.txt', sep='\\t', header=None),\n",
        "                  pd.read_csv('/content/dataset/yelp_labelled.txt', sep='\\t', header=None)],\n",
        "                  \n",
        "                 ignore_index=True)\n",
        "\n",
        "# assign column names to the combined data\n",
        "data.columns = ['text', 'label']\n",
        "\n",
        "data"
      ],
      "metadata": {
        "colab": {
          "base_uri": "https://localhost:8080/",
          "height": 424
        },
        "id": "VmxVdN5qSA1s",
        "outputId": "a58e57e8-4c18-497b-9525-e7dd0712767f"
      },
      "execution_count": 7,
      "outputs": [
        {
          "output_type": "execute_result",
          "data": {
            "text/plain": [
              "                                                   text  label\n",
              "0     So there is no way for me to plug it in here i...      0\n",
              "1                           Good case, Excellent value.      1\n",
              "2                                Great for the jawbone.      1\n",
              "3     Tied to charger for conversations lasting more...      0\n",
              "4                                     The mic is great.      1\n",
              "...                                                 ...    ...\n",
              "2743  I think food should have flavor and texture an...      0\n",
              "2744                           Appetite instantly gone.      0\n",
              "2745  Overall I was not impressed and would not go b...      0\n",
              "2746  The whole experience was underwhelming, and I ...      0\n",
              "2747  Then, as if I hadn't wasted enough of my life ...      0\n",
              "\n",
              "[2748 rows x 2 columns]"
            ],
            "text/html": [
              "\n",
              "  <div id=\"df-4b4a39c3-d225-4e6a-9a2d-366dffbdc47c\">\n",
              "    <div class=\"colab-df-container\">\n",
              "      <div>\n",
              "<style scoped>\n",
              "    .dataframe tbody tr th:only-of-type {\n",
              "        vertical-align: middle;\n",
              "    }\n",
              "\n",
              "    .dataframe tbody tr th {\n",
              "        vertical-align: top;\n",
              "    }\n",
              "\n",
              "    .dataframe thead th {\n",
              "        text-align: right;\n",
              "    }\n",
              "</style>\n",
              "<table border=\"1\" class=\"dataframe\">\n",
              "  <thead>\n",
              "    <tr style=\"text-align: right;\">\n",
              "      <th></th>\n",
              "      <th>text</th>\n",
              "      <th>label</th>\n",
              "    </tr>\n",
              "  </thead>\n",
              "  <tbody>\n",
              "    <tr>\n",
              "      <th>0</th>\n",
              "      <td>So there is no way for me to plug it in here i...</td>\n",
              "      <td>0</td>\n",
              "    </tr>\n",
              "    <tr>\n",
              "      <th>1</th>\n",
              "      <td>Good case, Excellent value.</td>\n",
              "      <td>1</td>\n",
              "    </tr>\n",
              "    <tr>\n",
              "      <th>2</th>\n",
              "      <td>Great for the jawbone.</td>\n",
              "      <td>1</td>\n",
              "    </tr>\n",
              "    <tr>\n",
              "      <th>3</th>\n",
              "      <td>Tied to charger for conversations lasting more...</td>\n",
              "      <td>0</td>\n",
              "    </tr>\n",
              "    <tr>\n",
              "      <th>4</th>\n",
              "      <td>The mic is great.</td>\n",
              "      <td>1</td>\n",
              "    </tr>\n",
              "    <tr>\n",
              "      <th>...</th>\n",
              "      <td>...</td>\n",
              "      <td>...</td>\n",
              "    </tr>\n",
              "    <tr>\n",
              "      <th>2743</th>\n",
              "      <td>I think food should have flavor and texture an...</td>\n",
              "      <td>0</td>\n",
              "    </tr>\n",
              "    <tr>\n",
              "      <th>2744</th>\n",
              "      <td>Appetite instantly gone.</td>\n",
              "      <td>0</td>\n",
              "    </tr>\n",
              "    <tr>\n",
              "      <th>2745</th>\n",
              "      <td>Overall I was not impressed and would not go b...</td>\n",
              "      <td>0</td>\n",
              "    </tr>\n",
              "    <tr>\n",
              "      <th>2746</th>\n",
              "      <td>The whole experience was underwhelming, and I ...</td>\n",
              "      <td>0</td>\n",
              "    </tr>\n",
              "    <tr>\n",
              "      <th>2747</th>\n",
              "      <td>Then, as if I hadn't wasted enough of my life ...</td>\n",
              "      <td>0</td>\n",
              "    </tr>\n",
              "  </tbody>\n",
              "</table>\n",
              "<p>2748 rows × 2 columns</p>\n",
              "</div>\n",
              "      <button class=\"colab-df-convert\" onclick=\"convertToInteractive('df-4b4a39c3-d225-4e6a-9a2d-366dffbdc47c')\"\n",
              "              title=\"Convert this dataframe to an interactive table.\"\n",
              "              style=\"display:none;\">\n",
              "        \n",
              "  <svg xmlns=\"http://www.w3.org/2000/svg\" height=\"24px\"viewBox=\"0 0 24 24\"\n",
              "       width=\"24px\">\n",
              "    <path d=\"M0 0h24v24H0V0z\" fill=\"none\"/>\n",
              "    <path d=\"M18.56 5.44l.94 2.06.94-2.06 2.06-.94-2.06-.94-.94-2.06-.94 2.06-2.06.94zm-11 1L8.5 8.5l.94-2.06 2.06-.94-2.06-.94L8.5 2.5l-.94 2.06-2.06.94zm10 10l.94 2.06.94-2.06 2.06-.94-2.06-.94-.94-2.06-.94 2.06-2.06.94z\"/><path d=\"M17.41 7.96l-1.37-1.37c-.4-.4-.92-.59-1.43-.59-.52 0-1.04.2-1.43.59L10.3 9.45l-7.72 7.72c-.78.78-.78 2.05 0 2.83L4 21.41c.39.39.9.59 1.41.59.51 0 1.02-.2 1.41-.59l7.78-7.78 2.81-2.81c.8-.78.8-2.07 0-2.86zM5.41 20L4 18.59l7.72-7.72 1.47 1.35L5.41 20z\"/>\n",
              "  </svg>\n",
              "      </button>\n",
              "      \n",
              "  <style>\n",
              "    .colab-df-container {\n",
              "      display:flex;\n",
              "      flex-wrap:wrap;\n",
              "      gap: 12px;\n",
              "    }\n",
              "\n",
              "    .colab-df-convert {\n",
              "      background-color: #E8F0FE;\n",
              "      border: none;\n",
              "      border-radius: 50%;\n",
              "      cursor: pointer;\n",
              "      display: none;\n",
              "      fill: #1967D2;\n",
              "      height: 32px;\n",
              "      padding: 0 0 0 0;\n",
              "      width: 32px;\n",
              "    }\n",
              "\n",
              "    .colab-df-convert:hover {\n",
              "      background-color: #E2EBFA;\n",
              "      box-shadow: 0px 1px 2px rgba(60, 64, 67, 0.3), 0px 1px 3px 1px rgba(60, 64, 67, 0.15);\n",
              "      fill: #174EA6;\n",
              "    }\n",
              "\n",
              "    [theme=dark] .colab-df-convert {\n",
              "      background-color: #3B4455;\n",
              "      fill: #D2E3FC;\n",
              "    }\n",
              "\n",
              "    [theme=dark] .colab-df-convert:hover {\n",
              "      background-color: #434B5C;\n",
              "      box-shadow: 0px 1px 3px 1px rgba(0, 0, 0, 0.15);\n",
              "      filter: drop-shadow(0px 1px 2px rgba(0, 0, 0, 0.3));\n",
              "      fill: #FFFFFF;\n",
              "    }\n",
              "  </style>\n",
              "\n",
              "      <script>\n",
              "        const buttonEl =\n",
              "          document.querySelector('#df-4b4a39c3-d225-4e6a-9a2d-366dffbdc47c button.colab-df-convert');\n",
              "        buttonEl.style.display =\n",
              "          google.colab.kernel.accessAllowed ? 'block' : 'none';\n",
              "\n",
              "        async function convertToInteractive(key) {\n",
              "          const element = document.querySelector('#df-4b4a39c3-d225-4e6a-9a2d-366dffbdc47c');\n",
              "          const dataTable =\n",
              "            await google.colab.kernel.invokeFunction('convertToInteractive',\n",
              "                                                     [key], {});\n",
              "          if (!dataTable) return;\n",
              "\n",
              "          const docLinkHtml = 'Like what you see? Visit the ' +\n",
              "            '<a target=\"_blank\" href=https://colab.research.google.com/notebooks/data_table.ipynb>data table notebook</a>'\n",
              "            + ' to learn more about interactive tables.';\n",
              "          element.innerHTML = '';\n",
              "          dataTable['output_type'] = 'display_data';\n",
              "          await google.colab.output.renderOutput(dataTable, element);\n",
              "          const docLink = document.createElement('div');\n",
              "          docLink.innerHTML = docLinkHtml;\n",
              "          element.appendChild(docLink);\n",
              "        }\n",
              "      </script>\n",
              "    </div>\n",
              "  </div>\n",
              "  "
            ]
          },
          "metadata": {},
          "execution_count": 7
        }
      ]
    },
    {
      "cell_type": "code",
      "source": [
        "counts = data['label'].value_counts()\n",
        "\n",
        "print(counts)"
      ],
      "metadata": {
        "colab": {
          "base_uri": "https://localhost:8080/",
          "height": 0
        },
        "id": "hsxswOJ50HYN",
        "outputId": "54f80bce-be02-4dce-f715-27e075479737"
      },
      "execution_count": 8,
      "outputs": [
        {
          "output_type": "stream",
          "name": "stdout",
          "text": [
            "1    1386\n",
            "0    1362\n",
            "Name: label, dtype: int64\n"
          ]
        }
      ]
    },
    {
      "cell_type": "code",
      "source": [
        "# create TF-IDF vectors for the text data\n",
        "vectorizer = TfidfVectorizer(stop_words='english')\n",
        "X = vectorizer.fit_transform(data['text'])"
      ],
      "metadata": {
        "id": "Q9uKOMZ2Tot-"
      },
      "execution_count": 46,
      "outputs": []
    },
    {
      "cell_type": "code",
      "source": [
        "# split the data into training and testing sets\n",
        "X_train, X_test, y_train, y_test = train_test_split(X, data['label'], test_size=0.2, random_state=42)\n",
        "\n",
        "# train a Random Forest Classifier model\n",
        "rfc = RandomForestClassifier(n_estimators=100, random_state=42)\n",
        "rfc.fit(X_train, y_train)\n",
        "\n",
        "# make predictions on the test set\n",
        "y_pred = rfc.predict(X_test)\n",
        "\n",
        "# report Precision, Recall, and F1 for each category (Pos and Neg)\n",
        "print('Positive class metrics:')\n",
        "print('Precision:', precision_score(y_test, y_pred, pos_label=1))\n",
        "print('Recall:', recall_score(y_test, y_pred, pos_label=1))\n",
        "print('F1 score:', f1_score(y_test, y_pred, pos_label=1))\n",
        "\n",
        "print('Negative class metrics:')\n",
        "print('Precision:', precision_score(y_test, y_pred, pos_label=0))\n",
        "print('Recall:', recall_score(y_test, y_pred, pos_label=0))\n",
        "print('F1 score:', f1_score(y_test, y_pred, pos_label=0))\n"
      ],
      "metadata": {
        "colab": {
          "base_uri": "https://localhost:8080/",
          "height": 0
        },
        "id": "6ph7MHJASCne",
        "outputId": "ede42fb5-f97a-40d8-b39c-1f2341ff2a34"
      },
      "execution_count": 47,
      "outputs": [
        {
          "output_type": "stream",
          "name": "stdout",
          "text": [
            "Positive class metrics:\n",
            "Precision: 0.7626459143968871\n",
            "Recall: 0.7567567567567568\n",
            "F1 score: 0.7596899224806202\n",
            "Negative class metrics:\n",
            "Precision: 0.7849829351535836\n",
            "Recall: 0.7903780068728522\n",
            "F1 score: 0.7876712328767123\n"
          ]
        }
      ]
    },
    {
      "cell_type": "markdown",
      "source": [
        "##**B**"
      ],
      "metadata": {
        "id": "sKwuuFA6YofO"
      }
    },
    {
      "cell_type": "markdown",
      "source": [
        "Discuss your results from Part A. How could the addition of an extra class affect the learning\n",
        "algorithms? Did you need to account for any particular variables/characteristics in the dataset\n",
        "when training your model? Why or why not? "
      ],
      "metadata": {
        "id": "e_N_mxQ5Y6Tp"
      }
    },
    {
      "cell_type": "markdown",
      "source": [
        "From the results of the classification report, the precision, recall, and F1 scores for both the positive and negative classes are relatively high, indicating that the model is performing well in distinguishing between the two classes.\n",
        "\n",
        "The addition of an extra class could affect the learning algorithms by introducing more complexity and potentially increasing the likelihood of misclassification. In this case, the dataset only includes two classes (positive and negative), so the addition of an extra class was not a factor.\n",
        "\n",
        "The performance of the model may be influenced by certain characteristics of the dataset, such as class imbalance, data quality, and feature selection. In this case,there is no need to account for any particular variables or characteristics since I used a relatively simple approach of using TF-IDF vectors and a Random Forest classifier, and the dataset appeared to be well-balanced with high-quality data. However, in more complex scenarios, it may be necessary to perform more advanced preprocessing techniques and hyperparameter tuning to optimize the performance of the model."
      ],
      "metadata": {
        "id": "92AminaXVC9C"
      }
    },
    {
      "cell_type": "markdown",
      "source": [
        "## **C**"
      ],
      "metadata": {
        "id": "66qZy8eNY7-5"
      }
    },
    {
      "cell_type": "markdown",
      "source": [
        "Can 10-fold cross validation be performed with this dataset? Why or why not?"
      ],
      "metadata": {
        "id": "PjPuThiOZDAk"
      }
    },
    {
      "cell_type": "markdown",
      "source": [
        "Yes, 10-fold cross-validation can be performed with this dataset. \n",
        "In this case, since there are more than 10 samples per class, it is possible to divide the data into 10 folds while maintaining a reasonable number of samples in each fold. This would involve randomly dividing the data into 10 equal-sized subsets, with roughly equal representation of both classes in each subset. The model would then be trained and tested on each fold, with the results averaged across all folds to obtain an estimate of model performance."
      ],
      "metadata": {
        "id": "nG6UbXLmV0wl"
      }
    },
    {
      "cell_type": "markdown",
      "source": [
        "#**Exercise 4**"
      ],
      "metadata": {
        "id": "JxCvwZXsZFcG"
      }
    },
    {
      "cell_type": "markdown",
      "source": [
        "## **A**"
      ],
      "metadata": {
        "id": "ywrIoqZ8ZvTd"
      }
    },
    {
      "cell_type": "markdown",
      "source": [
        "Write a Python program to load the ALBERT (A Lite BERT) pre-trained model using Pytorch\n",
        "and provide a summary of the model architecture, including the number of layers, number of\n",
        "parameters, and layer types."
      ],
      "metadata": {
        "id": "Nnz4fXPfaPns"
      }
    },
    {
      "cell_type": "code",
      "source": [
        "!pip install transformers"
      ],
      "metadata": {
        "colab": {
          "base_uri": "https://localhost:8080/",
          "height": 454
        },
        "id": "O4HyjrXPW1hK",
        "outputId": "2f46eb49-3676-42e3-aca4-baafc12119ef"
      },
      "execution_count": 63,
      "outputs": [
        {
          "output_type": "stream",
          "name": "stdout",
          "text": [
            "Looking in indexes: https://pypi.org/simple, https://us-python.pkg.dev/colab-wheels/public/simple/\n",
            "Collecting transformers\n",
            "  Using cached transformers-4.26.1-py3-none-any.whl (6.3 MB)\n",
            "Requirement already satisfied: numpy>=1.17 in /usr/local/lib/python3.9/dist-packages (from transformers) (1.22.4)\n",
            "Requirement already satisfied: requests in /usr/local/lib/python3.9/dist-packages (from transformers) (2.25.1)\n",
            "Requirement already satisfied: filelock in /usr/local/lib/python3.9/dist-packages (from transformers) (3.9.0)\n",
            "Requirement already satisfied: tqdm>=4.27 in /usr/local/lib/python3.9/dist-packages (from transformers) (4.65.0)\n",
            "Requirement already satisfied: tokenizers!=0.11.3,<0.14,>=0.11.1 in /usr/local/lib/python3.9/dist-packages (from transformers) (0.13.2)\n",
            "Requirement already satisfied: huggingface-hub<1.0,>=0.11.0 in /usr/local/lib/python3.9/dist-packages (from transformers) (0.13.2)\n",
            "Requirement already satisfied: regex!=2019.12.17 in /usr/local/lib/python3.9/dist-packages (from transformers) (2022.6.2)\n",
            "Requirement already satisfied: pyyaml>=5.1 in /usr/local/lib/python3.9/dist-packages (from transformers) (6.0)\n",
            "Requirement already satisfied: packaging>=20.0 in /usr/local/lib/python3.9/dist-packages (from transformers) (23.0)\n",
            "Requirement already satisfied: typing-extensions>=3.7.4.3 in /usr/local/lib/python3.9/dist-packages (from huggingface-hub<1.0,>=0.11.0->transformers) (4.5.0)\n",
            "Requirement already satisfied: chardet<5,>=3.0.2 in /usr/local/lib/python3.9/dist-packages (from requests->transformers) (4.0.0)\n",
            "Requirement already satisfied: certifi>=2017.4.17 in /usr/local/lib/python3.9/dist-packages (from requests->transformers) (2022.12.7)\n",
            "Requirement already satisfied: idna<3,>=2.5 in /usr/local/lib/python3.9/dist-packages (from requests->transformers) (2.10)\n",
            "Requirement already satisfied: urllib3<1.27,>=1.21.1 in /usr/local/lib/python3.9/dist-packages (from requests->transformers) (1.26.14)\n",
            "Installing collected packages: transformers\n",
            "Successfully installed transformers-4.26.1\n"
          ]
        },
        {
          "output_type": "display_data",
          "data": {
            "application/vnd.colab-display-data+json": {
              "pip_warning": {
                "packages": [
                  "transformers"
                ]
              }
            }
          },
          "metadata": {}
        }
      ]
    },
    {
      "cell_type": "code",
      "source": [
        "!pip install sentencepiece"
      ],
      "metadata": {
        "colab": {
          "base_uri": "https://localhost:8080/",
          "height": 0
        },
        "id": "_yAFkUHfXbHl",
        "outputId": "56ad3b57-c68b-4f77-ad33-a717f19fda19"
      },
      "execution_count": 1,
      "outputs": [
        {
          "output_type": "stream",
          "name": "stdout",
          "text": [
            "Looking in indexes: https://pypi.org/simple, https://us-python.pkg.dev/colab-wheels/public/simple/\n",
            "Requirement already satisfied: sentencepiece in /usr/local/lib/python3.9/dist-packages (0.1.97)\n"
          ]
        }
      ]
    },
    {
      "cell_type": "code",
      "source": [
        "import torch\n",
        "from transformers import AlbertModel, AlbertTokenizer\n",
        "\n",
        "# Load the pre-trained model and tokenizer\n",
        "model_name = 'albert-base-v2'\n",
        "model = AlbertModel.from_pretrained(model_name)\n",
        "tokenizer = AlbertTokenizer.from_pretrained(model_name)\n",
        "\n",
        "# Display a summary of the model architecture\n",
        "print(model)\n",
        "\n"
      ],
      "metadata": {
        "colab": {
          "base_uri": "https://localhost:8080/",
          "height": 746,
          "referenced_widgets": [
            "4d02dac0985d48a281b4eba4819884b7",
            "e6fd3b7301ce414c94a8402b903caf22",
            "dc8c788a2b6641ac81a505fb5e786ba8",
            "68f1c0b7fd21486cb1015f2c268bbe54",
            "32f983fc29db48eda446bf5ea394305a",
            "a8d9fc5ca7fa421cb603a300aaad0d99",
            "ab58d65ad44842dfab62a9b780975577",
            "7e621863af1148f38410f69280e4f5ba",
            "43fc7cf914544e59bf8b30358f2481cd",
            "f4b2fd6af1b64e2596d442feffdde4b4",
            "5101a71802f04d1f91a2018d3a81b583"
          ]
        },
        "id": "rhtJjvVmWCNG",
        "outputId": "afe7bd3c-512c-40b9-b572-7e0c1f94c2f8"
      },
      "execution_count": 2,
      "outputs": [
        {
          "output_type": "stream",
          "name": "stderr",
          "text": [
            "Some weights of the model checkpoint at albert-base-v2 were not used when initializing AlbertModel: ['predictions.decoder.weight', 'predictions.LayerNorm.bias', 'predictions.dense.weight', 'predictions.bias', 'predictions.decoder.bias', 'predictions.LayerNorm.weight', 'predictions.dense.bias']\n",
            "- This IS expected if you are initializing AlbertModel from the checkpoint of a model trained on another task or with another architecture (e.g. initializing a BertForSequenceClassification model from a BertForPreTraining model).\n",
            "- This IS NOT expected if you are initializing AlbertModel from the checkpoint of a model that you expect to be exactly identical (initializing a BertForSequenceClassification model from a BertForSequenceClassification model).\n"
          ]
        },
        {
          "output_type": "display_data",
          "data": {
            "text/plain": [
              "Downloading (…)ve/main/spiece.model:   0%|          | 0.00/760k [00:00<?, ?B/s]"
            ],
            "application/vnd.jupyter.widget-view+json": {
              "version_major": 2,
              "version_minor": 0,
              "model_id": "4d02dac0985d48a281b4eba4819884b7"
            }
          },
          "metadata": {}
        },
        {
          "output_type": "stream",
          "name": "stdout",
          "text": [
            "AlbertModel(\n",
            "  (embeddings): AlbertEmbeddings(\n",
            "    (word_embeddings): Embedding(30000, 128, padding_idx=0)\n",
            "    (position_embeddings): Embedding(512, 128)\n",
            "    (token_type_embeddings): Embedding(2, 128)\n",
            "    (LayerNorm): LayerNorm((128,), eps=1e-12, elementwise_affine=True)\n",
            "    (dropout): Dropout(p=0, inplace=False)\n",
            "  )\n",
            "  (encoder): AlbertTransformer(\n",
            "    (embedding_hidden_mapping_in): Linear(in_features=128, out_features=768, bias=True)\n",
            "    (albert_layer_groups): ModuleList(\n",
            "      (0): AlbertLayerGroup(\n",
            "        (albert_layers): ModuleList(\n",
            "          (0): AlbertLayer(\n",
            "            (full_layer_layer_norm): LayerNorm((768,), eps=1e-12, elementwise_affine=True)\n",
            "            (attention): AlbertAttention(\n",
            "              (query): Linear(in_features=768, out_features=768, bias=True)\n",
            "              (key): Linear(in_features=768, out_features=768, bias=True)\n",
            "              (value): Linear(in_features=768, out_features=768, bias=True)\n",
            "              (attention_dropout): Dropout(p=0, inplace=False)\n",
            "              (output_dropout): Dropout(p=0, inplace=False)\n",
            "              (dense): Linear(in_features=768, out_features=768, bias=True)\n",
            "              (LayerNorm): LayerNorm((768,), eps=1e-12, elementwise_affine=True)\n",
            "            )\n",
            "            (ffn): Linear(in_features=768, out_features=3072, bias=True)\n",
            "            (ffn_output): Linear(in_features=3072, out_features=768, bias=True)\n",
            "            (activation): NewGELUActivation()\n",
            "            (dropout): Dropout(p=0, inplace=False)\n",
            "          )\n",
            "        )\n",
            "      )\n",
            "    )\n",
            "  )\n",
            "  (pooler): Linear(in_features=768, out_features=768, bias=True)\n",
            "  (pooler_activation): Tanh()\n",
            ")\n"
          ]
        }
      ]
    },
    {
      "cell_type": "markdown",
      "source": [
        "## **B**"
      ],
      "metadata": {
        "id": "Ocee_F-BaQwP"
      }
    },
    {
      "cell_type": "markdown",
      "source": [
        "Explain the concept of \"freezing\" layers in a neural network, and why it can be useful when\n",
        "fine-tuning a pre-trained model. Freeze the first 5 layers of the pre-trained model in Part A. "
      ],
      "metadata": {
        "id": "oHbFuLL_aVtb"
      }
    },
    {
      "cell_type": "markdown",
      "source": [
        "Freezing layers in a neural network means setting the parameters of those layers as non-trainable, i.e., the weights and biases of the frozen layers are not updated during backpropagation.\n",
        "\n",
        "Freezing layers is useful when fine-tuning a pre-trained model because it allows us to reuse the pre-trained weights and biases for the initial layers of the model, which have already learned important low-level features such as edges and shapes, without altering them during the fine-tuning process. By doing so, we can avoid overfitting and speed up the training process.\n",
        "\n",
        "To freeze the first 5 layers of the pre-trained ALBERT model in Part A, we can simply set the requires_grad attribute of the layers we want to freeze as False:"
      ],
      "metadata": {
        "id": "cTvBaRQfr9fe"
      }
    },
    {
      "cell_type": "code",
      "source": [
        "for name, param in model.named_parameters():\n",
        "    if 'albert.encoder.albert_layer_groups.0' in name or 'albert.pooler' in name:\n",
        "        param.requires_grad = False\n"
      ],
      "metadata": {
        "id": "r7-Cy-hBr8zv"
      },
      "execution_count": 3,
      "outputs": []
    },
    {
      "cell_type": "markdown",
      "source": [
        "This code will set the requires_grad attribute of all the parameters in the first 5 layers  and the pooler layer to False"
      ],
      "metadata": {
        "id": "hmogEaT5sOdA"
      }
    },
    {
      "cell_type": "markdown",
      "source": [
        "## **C**"
      ],
      "metadata": {
        "id": "KtAtm0LHaXYx"
      }
    },
    {
      "cell_type": "markdown",
      "source": [
        "Explain the steps involved in fine-tuning a pre-trained model for a specific NLP classification\n",
        "task. How does the process differ from training a model from scratch? "
      ],
      "metadata": {
        "id": "L2e36gm3aqpH"
      }
    },
    {
      "cell_type": "markdown",
      "source": [
        "Fine-tuning a pre-trained model for a specific NLP classification task involves the following steps:\n",
        "\n",
        "Preparing the data: The first step is to prepare the data for the specific classification task. This involves preprocessing the data, tokenizing the text, and encoding the labels.\n",
        "\n",
        "Loading the pre-trained model: Next, load the pre-trained model and tokenizer that were trained on a large corpus of text data. The pre-trained model should be fine-tuned on the specific NLP classification task.\n",
        "\n",
        "Freezing the initial layers: Since the initial layers of the pre-trained model are already trained to recognize general patterns in the language, it is usually a good practice to freeze them. This means that these layers are not trained during the fine-tuning process, which saves time and reduces the risk of overfitting.\n",
        "\n",
        "Adding task-specific layers: Add additional layers to the pre-trained model that are specific to the classification task. For instance, for a sentiment analysis task, add a layer that outputs binary classification.\n",
        "\n",
        "Fine-tuning the model: Train the model on the specific NLP classification task. During this process, the weights of the additional layers are updated while the weights of the initial layers are kept fixed. The model is fine-tuned for the specific task by minimizing the loss function using backpropagation.\n",
        "\n",
        "Evaluating the model: Once the model is trained, evaluate its performance on a held-out dataset to determine how well it generalizes to new data.\n",
        "\n",
        "The process of fine-tuning a pre-trained model differs from training a model from scratch in that a pre-trained model has already learned general patterns from a large corpus of data, while a model trained from scratch starts with random weights. Fine-tuning a pre-trained model is typically faster and requires less data than training a model from scratch. Moreover, a pre-trained model may have already learned important language features that can be beneficial for a specific NLP classification task.\n",
        "\n",
        "\n",
        "\n"
      ],
      "metadata": {
        "id": "IQbnFrL9sugy"
      }
    },
    {
      "cell_type": "code",
      "source": [],
      "metadata": {
        "id": "2Ygfv0efs0Vp"
      },
      "execution_count": null,
      "outputs": []
    }
  ]
}